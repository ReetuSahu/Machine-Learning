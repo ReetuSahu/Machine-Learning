{
 "cells": [
  {
   "cell_type": "code",
   "execution_count": 1,
   "id": "fb983d95",
   "metadata": {},
   "outputs": [],
   "source": [
    "import pandas as pd\n",
    "import numpy as np"
   ]
  },
  {
   "cell_type": "code",
   "execution_count": 2,
   "id": "8edd7788",
   "metadata": {},
   "outputs": [],
   "source": [
    "df = pd.read_csv(\"C:/Users/lkosh/Desktop/MachineLearning/Datasets/nutrient.csv\",index_col=0)"
   ]
  },
  {
   "cell_type": "code",
   "execution_count": 3,
   "id": "c12da5b7",
   "metadata": {},
   "outputs": [
    {
     "data": {
      "text/html": [
       "<div>\n",
       "<style scoped>\n",
       "    .dataframe tbody tr th:only-of-type {\n",
       "        vertical-align: middle;\n",
       "    }\n",
       "\n",
       "    .dataframe tbody tr th {\n",
       "        vertical-align: top;\n",
       "    }\n",
       "\n",
       "    .dataframe thead th {\n",
       "        text-align: right;\n",
       "    }\n",
       "</style>\n",
       "<table border=\"1\" class=\"dataframe\">\n",
       "  <thead>\n",
       "    <tr style=\"text-align: right;\">\n",
       "      <th></th>\n",
       "      <th>energy</th>\n",
       "      <th>protein</th>\n",
       "      <th>fat</th>\n",
       "      <th>calcium</th>\n",
       "      <th>iron</th>\n",
       "    </tr>\n",
       "    <tr>\n",
       "      <th>Food_Item</th>\n",
       "      <th></th>\n",
       "      <th></th>\n",
       "      <th></th>\n",
       "      <th></th>\n",
       "      <th></th>\n",
       "    </tr>\n",
       "  </thead>\n",
       "  <tbody>\n",
       "    <tr>\n",
       "      <th>BEEF BRAISED</th>\n",
       "      <td>340</td>\n",
       "      <td>20</td>\n",
       "      <td>28</td>\n",
       "      <td>9</td>\n",
       "      <td>2.6</td>\n",
       "    </tr>\n",
       "    <tr>\n",
       "      <th>HAMBURGER</th>\n",
       "      <td>245</td>\n",
       "      <td>21</td>\n",
       "      <td>17</td>\n",
       "      <td>9</td>\n",
       "      <td>2.7</td>\n",
       "    </tr>\n",
       "    <tr>\n",
       "      <th>BEEF ROAST</th>\n",
       "      <td>420</td>\n",
       "      <td>15</td>\n",
       "      <td>39</td>\n",
       "      <td>7</td>\n",
       "      <td>2.0</td>\n",
       "    </tr>\n",
       "    <tr>\n",
       "      <th>BEEF STEAK</th>\n",
       "      <td>375</td>\n",
       "      <td>19</td>\n",
       "      <td>32</td>\n",
       "      <td>9</td>\n",
       "      <td>2.6</td>\n",
       "    </tr>\n",
       "    <tr>\n",
       "      <th>BEEF CANNED</th>\n",
       "      <td>180</td>\n",
       "      <td>22</td>\n",
       "      <td>10</td>\n",
       "      <td>17</td>\n",
       "      <td>3.7</td>\n",
       "    </tr>\n",
       "  </tbody>\n",
       "</table>\n",
       "</div>"
      ],
      "text/plain": [
       "              energy  protein  fat  calcium  iron\n",
       "Food_Item                                        \n",
       "BEEF BRAISED     340       20   28        9   2.6\n",
       "HAMBURGER        245       21   17        9   2.7\n",
       "BEEF ROAST       420       15   39        7   2.0\n",
       "BEEF STEAK       375       19   32        9   2.6\n",
       "BEEF CANNED      180       22   10       17   3.7"
      ]
     },
     "execution_count": 3,
     "metadata": {},
     "output_type": "execute_result"
    }
   ],
   "source": [
    "df.head()"
   ]
  },
  {
   "cell_type": "code",
   "execution_count": 4,
   "id": "14460e67",
   "metadata": {},
   "outputs": [
    {
     "data": {
      "text/plain": [
       "StandardScaler()"
      ]
     },
     "execution_count": 4,
     "metadata": {},
     "output_type": "execute_result"
    }
   ],
   "source": [
    "from sklearn.preprocessing import StandardScaler\n",
    "scaler = StandardScaler()\n",
    "scaler.fit(df)\n"
   ]
  },
  {
   "cell_type": "code",
   "execution_count": 5,
   "id": "7abbf80f",
   "metadata": {},
   "outputs": [],
   "source": [
    "nutrients_scaled=scaler.transform(df)"
   ]
  },
  {
   "cell_type": "code",
   "execution_count": 6,
   "id": "002fa10e",
   "metadata": {},
   "outputs": [],
   "source": [
    "from sklearn.decomposition import PCA\n",
    "pca = PCA()"
   ]
  },
  {
   "cell_type": "code",
   "execution_count": 7,
   "id": "b33b6af4",
   "metadata": {},
   "outputs": [],
   "source": [
    "principalComponents = pca.fit_transform(nutrients_scaled)"
   ]
  },
  {
   "cell_type": "code",
   "execution_count": 8,
   "id": "13b6ece2",
   "metadata": {},
   "outputs": [
    {
     "name": "stdout",
     "output_type": "stream",
     "text": [
      "[2.28079741e+00 1.18996245e+00 8.80317810e-01 8.39566765e-01\n",
      " 1.66325132e-03]\n"
     ]
    }
   ],
   "source": [
    "print(pca.explained_variance_)\n"
   ]
  },
  {
   "cell_type": "code",
   "execution_count": 9,
   "id": "45c13fa2",
   "metadata": {},
   "outputs": [
    {
     "name": "stdout",
     "output_type": "stream",
     "text": [
      "5.192307692307693\n"
     ]
    }
   ],
   "source": [
    "print(np.sum(pca.explained_variance_))\n"
   ]
  },
  {
   "cell_type": "code",
   "execution_count": 10,
   "id": "c27b7e17",
   "metadata": {},
   "outputs": [
    {
     "name": "stdout",
     "output_type": "stream",
     "text": [
      "[4.39264687e-01 2.29177954e-01 1.69542689e-01 1.61694340e-01\n",
      " 3.20329884e-04]\n"
     ]
    }
   ],
   "source": [
    "print(pca.explained_variance_ratio_) \n"
   ]
  },
  {
   "cell_type": "code",
   "execution_count": 11,
   "id": "e0fa6685",
   "metadata": {},
   "outputs": [
    {
     "name": "stdout",
     "output_type": "stream",
     "text": [
      "[4.39264687e+01 2.29177954e+01 1.69542689e+01 1.61694340e+01\n",
      " 3.20329884e-02]\n"
     ]
    }
   ],
   "source": [
    "print(pca.explained_variance_ratio_ * 100)"
   ]
  },
  {
   "cell_type": "code",
   "execution_count": 12,
   "id": "b30c2210",
   "metadata": {},
   "outputs": [
    {
     "data": {
      "image/png": "[encoded data removed]",
      "text/plain": [
       "<Figure size 432x288 with 1 Axes>"
      ]
     },
     "metadata": {
      "needs_background": "light"
     },
     "output_type": "display_data"
    }
   ],
   "source": [
    "import matplotlib.pyplot as plt\n",
    "y = pca.explained_variance_ratio_ * 100\n",
    "x = np.arange(1,6)\n",
    "plt.plot(x,y)\n",
    "plt.show()"
   ]
  },
  {
   "cell_type": "code",
   "execution_count": 32,
   "id": "22a66b33",
   "metadata": {},
   "outputs": [
    {
     "data": {
      "text/plain": [
       "array([ 43.92646868,  66.84426409,  83.79853301,  99.96796701,\n",
       "       100.        ])"
      ]
     },
     "execution_count": 32,
     "metadata": {},
     "output_type": "execute_result"
    }
   ],
   "source": [
    "y"
   ]
  },
  {
   "cell_type": "code",
   "execution_count": 13,
   "id": "a1fccbd6",
   "metadata": {},
   "outputs": [
    {
     "data": {
      "image/png": "[encoded data removed]",
      "text/plain": [
       "<Figure size 432x288 with 1 Axes>"
      ]
     },
     "metadata": {
      "needs_background": "light"
     },
     "output_type": "display_data"
    }
   ],
   "source": [
    "import matplotlib.pyplot as plt\n",
    "y = np.cumsum(pca.explained_variance_ratio_ * 100)\n",
    "x = np.arange(1,6)\n",
    "plt.plot(x,y)\n",
    "plt.show()"
   ]
  },
  {
   "cell_type": "code",
   "execution_count": 14,
   "id": "cbdb907b",
   "metadata": {},
   "outputs": [],
   "source": [
    "# principalComponents are PCA scores\n",
    "\n",
    "df_plot = pd.DataFrame(principalComponents,\n",
    "                 columns = ['PC1', 'PC2','PC3','PC4','PC5'],\n",
    "                 index = df.index)"
   ]
  },
  {
   "cell_type": "code",
   "execution_count": 15,
   "id": "e7fdfdcc",
   "metadata": {},
   "outputs": [],
   "source": [
    "pca_loadings = pd.DataFrame(pca.components_.T, index=df.columns, columns=['V1', 'V2','V3','V4','V5'] )\n"
   ]
  },
  {
   "cell_type": "code",
   "execution_count": 16,
   "id": "43d15291",
   "metadata": {},
   "outputs": [
    {
     "data": {
      "text/html": [
       "<div>\n",
       "<style scoped>\n",
       "    .dataframe tbody tr th:only-of-type {\n",
       "        vertical-align: middle;\n",
       "    }\n",
       "\n",
       "    .dataframe tbody tr th {\n",
       "        vertical-align: top;\n",
       "    }\n",
       "\n",
       "    .dataframe thead th {\n",
       "        text-align: right;\n",
       "    }\n",
       "</style>\n",
       "<table border=\"1\" class=\"dataframe\">\n",
       "  <thead>\n",
       "    <tr style=\"text-align: right;\">\n",
       "      <th></th>\n",
       "      <th>V1</th>\n",
       "      <th>V2</th>\n",
       "      <th>V3</th>\n",
       "      <th>V4</th>\n",
       "      <th>V5</th>\n",
       "    </tr>\n",
       "  </thead>\n",
       "  <tbody>\n",
       "    <tr>\n",
       "      <th>energy</th>\n",
       "      <td>0.654283</td>\n",
       "      <td>0.085330</td>\n",
       "      <td>-0.150690</td>\n",
       "      <td>0.197034</td>\n",
       "      <td>0.709298</td>\n",
       "    </tr>\n",
       "    <tr>\n",
       "      <th>protein</th>\n",
       "      <td>0.150732</td>\n",
       "      <td>-0.689332</td>\n",
       "      <td>0.462684</td>\n",
       "      <td>0.526492</td>\n",
       "      <td>-0.104069</td>\n",
       "    </tr>\n",
       "    <tr>\n",
       "      <th>fat</th>\n",
       "      <td>0.639911</td>\n",
       "      <td>0.199787</td>\n",
       "      <td>-0.217483</td>\n",
       "      <td>0.131710</td>\n",
       "      <td>-0.697104</td>\n",
       "    </tr>\n",
       "    <tr>\n",
       "      <th>calcium</th>\n",
       "      <td>-0.354978</td>\n",
       "      <td>-0.003144</td>\n",
       "      <td>-0.651382</td>\n",
       "      <td>0.670575</td>\n",
       "      <td>0.003160</td>\n",
       "    </tr>\n",
       "    <tr>\n",
       "      <th>iron</th>\n",
       "      <td>-0.117042</td>\n",
       "      <td>0.691097</td>\n",
       "      <td>0.540017</td>\n",
       "      <td>0.465795</td>\n",
       "      <td>0.010158</td>\n",
       "    </tr>\n",
       "  </tbody>\n",
       "</table>\n",
       "</div>"
      ],
      "text/plain": [
       "               V1        V2        V3        V4        V5\n",
       "energy   0.654283  0.085330 -0.150690  0.197034  0.709298\n",
       "protein  0.150732 -0.689332  0.462684  0.526492 -0.104069\n",
       "fat      0.639911  0.199787 -0.217483  0.131710 -0.697104\n",
       "calcium -0.354978 -0.003144 -0.651382  0.670575  0.003160\n",
       "iron    -0.117042  0.691097  0.540017  0.465795  0.010158"
      ]
     },
     "execution_count": 16,
     "metadata": {},
     "output_type": "execute_result"
    }
   ],
   "source": [
    "pca_loadings"
   ]
  },
  {
   "cell_type": "code",
   "execution_count": 19,
   "id": "21c6219a",
   "metadata": {},
   "outputs": [],
   "source": [
    "nutrients_scaled = pd.DataFrame(nutrients_scaled,columns=df.columns, index=df.index)"
   ]
  },
  {
   "cell_type": "code",
   "execution_count": 20,
   "id": "8a4424a8",
   "metadata": {},
   "outputs": [
    {
     "name": "stderr",
     "output_type": "stream",
     "text": [
      "C:\\Users\\lkosh\\anaconda3\\lib\\site-packages\\seaborn\\_decorators.py:36: FutureWarning: Pass the following variables as keyword args: x, y. From version 0.12, the only valid positional argument will be `data`, and passing other arguments without an explicit keyword will result in an error or misinterpretation.\n",
      "  warnings.warn(\n",
      "C:\\Users\\lkosh\\anaconda3\\lib\\site-packages\\seaborn\\regression.py:580: UserWarning: The `size` parameter has been renamed to `height`; please update your code.\n",
      "  warnings.warn(msg, UserWarning)\n"
     ]
    },
    {
     "data": {
      "text/plain": [
       "<seaborn.axisgrid.FacetGrid at 0x2562f54eeb0>"
      ]
     },
     "execution_count": 20,
     "metadata": {},
     "output_type": "execute_result"
    },
    {
     "data": {
      "image/png": "[encoded data removed]",
      "text/plain": [
       "<Figure size 1080x1080 with 1 Axes>"
      ]
     },
     "metadata": {
      "needs_background": "light"
     },
     "output_type": "display_data"
    }
   ],
   "source": [
    "import seaborn as sns\n",
    " \n",
    "# Scatter plot based and assigne color based on 'label - y'\n",
    "sns.lmplot('PC1', 'PC2', data=df_plot, fit_reg = False, size = 15, scatter_kws={\"s\": 100})"
   ]
  },
  {
   "cell_type": "code",
   "execution_count": 21,
   "id": "2442a480",
   "metadata": {},
   "outputs": [],
   "source": [
    "# set the maximum variance of the first two PCs\n",
    "# this will be the end point of the arrow of each **original features**\n",
    "xvector = pca.components_[0]\n",
    "yvector = pca.components_[1]"
   ]
  },
  {
   "cell_type": "code",
   "execution_count": 22,
   "id": "3cb78f33",
   "metadata": {},
   "outputs": [],
   "source": [
    "# value of the first two PCs, set the x, y axis boundary\n",
    "xs = df_plot['PC1']\n",
    "ys = df_plot['PC2']"
   ]
  },
  {
   "cell_type": "code",
   "execution_count": 27,
   "id": "10f06b80",
   "metadata": {},
   "outputs": [
    {
     "data": {
      "image/png": "[encoded data removed]",
      "text/plain": [
       "<Figure size 432x288 with 1 Axes>"
      ]
     },
     "metadata": {
      "needs_background": "light"
     },
     "output_type": "display_data"
    }
   ],
   "source": [
    "## visualize projections\n",
    " \n",
    "## Note: scale values for arrows and text are a bit inelegant as of now,\n",
    "##       so feel free to play around with them\n",
    "for i in range(len(xvector)):\n",
    "    # arrows project features (ie columns from csv) as vectors onto PC axes\n",
    "    # we can adjust length and the size of the arrow\n",
    "    plt.arrow(0, 0, xvector[i]*max(xs), yvector[i]*max(ys),\n",
    "              color='r', width=0.005, head_width=0.05)\n",
    "    plt.text(xvector[i]*max(xs)*1.1, yvector[i]*max(ys)*1.1,\n",
    "             list(df.columns.values)[i], color='r')\n",
    "    \n",
    "for i in range(len(xs)):\n",
    "    plt.text(xs[i]*1.08, ys[i]*1.08, list(df.index)[i], color='b') # index number of each observations\n",
    "plt.title('PCA Plot of first PCs')\n",
    "plt.show()"
   ]
  },
  {
   "cell_type": "code",
   "execution_count": 25,
   "id": "07382895",
   "metadata": {},
   "outputs": [],
   "source": [
    "from numpy.linalg import eig"
   ]
  },
  {
   "cell_type": "code",
   "execution_count": 26,
   "id": "109f72c2",
   "metadata": {},
   "outputs": [],
   "source": [
    "nutrients_scaled = pd.DataFrame(nutrients_scaled)\n",
    "values, vectors = eig(nutrients_scaled.corr())"
   ]
  },
  {
   "cell_type": "code",
   "execution_count": 28,
   "id": "1e55b923",
   "metadata": {},
   "outputs": [
    {
     "name": "stdout",
     "output_type": "stream",
     "text": [
      "[2.19632343e+00 1.60164942e-03 1.14588977e+00 8.08471700e-01\n",
      " 8.47713446e-01]\n"
     ]
    }
   ],
   "source": [
    "print(values)\n"
   ]
  },
  {
   "cell_type": "code",
   "execution_count": 29,
   "id": "dad96eef",
   "metadata": {},
   "outputs": [
    {
     "name": "stdout",
     "output_type": "stream",
     "text": [
      "[[-0.65428251 -0.7092977  -0.08533006  0.19703438 -0.15068976]\n",
      " [-0.15073191  0.10406865  0.68933242  0.52649179  0.46268437]\n",
      " [-0.63991067  0.69710352 -0.19978707  0.13170953 -0.21748273]\n",
      " [ 0.35497845 -0.00316007  0.00314436  0.67057536 -0.65138247]\n",
      " [ 0.11704241 -0.01015761 -0.69109684  0.46579517  0.54001659]]\n"
     ]
    }
   ],
   "source": [
    "print(vectors)\n"
   ]
  },
  {
   "cell_type": "code",
   "execution_count": 30,
   "id": "c3bb2bc9",
   "metadata": {},
   "outputs": [],
   "source": [
    "PCA_Score = np.matmul(nutrients_scaled,vectors)"
   ]
  },
  {
   "cell_type": "code",
   "execution_count": 31,
   "id": "c1fcf105",
   "metadata": {},
   "outputs": [
    {
     "data": {
      "text/html": [
       "<div>\n",
       "<style scoped>\n",
       "    .dataframe tbody tr th:only-of-type {\n",
       "        vertical-align: middle;\n",
       "    }\n",
       "\n",
       "    .dataframe tbody tr th {\n",
       "        vertical-align: top;\n",
       "    }\n",
       "\n",
       "    .dataframe thead th {\n",
       "        text-align: right;\n",
       "    }\n",
       "</style>\n",
       "<table border=\"1\" class=\"dataframe\">\n",
       "  <thead>\n",
       "    <tr style=\"text-align: right;\">\n",
       "      <th></th>\n",
       "      <th>0</th>\n",
       "      <th>1</th>\n",
       "      <th>2</th>\n",
       "      <th>3</th>\n",
       "      <th>4</th>\n",
       "    </tr>\n",
       "    <tr>\n",
       "      <th>Food_Item</th>\n",
       "      <th></th>\n",
       "      <th></th>\n",
       "      <th></th>\n",
       "      <th></th>\n",
       "      <th></th>\n",
       "    </tr>\n",
       "  </thead>\n",
       "  <tbody>\n",
       "    <tr>\n",
       "      <th>BEEF BRAISED</th>\n",
       "      <td>-1.894907</td>\n",
       "      <td>-0.005915</td>\n",
       "      <td>-0.318029</td>\n",
       "      <td>0.327156</td>\n",
       "      <td>0.003579</td>\n",
       "    </tr>\n",
       "    <tr>\n",
       "      <th>HAMBURGER</th>\n",
       "      <td>-0.659812</td>\n",
       "      <td>0.002632</td>\n",
       "      <td>0.079563</td>\n",
       "      <td>0.166202</td>\n",
       "      <td>0.512841</td>\n",
       "    </tr>\n",
       "    <tr>\n",
       "      <th>BEEF ROAST</th>\n",
       "      <td>-2.936755</td>\n",
       "      <td>-0.003483</td>\n",
       "      <td>-1.122724</td>\n",
       "      <td>-0.226335</td>\n",
       "      <td>-1.097788</td>\n",
       "    </tr>\n",
       "    <tr>\n",
       "      <th>BEEF STEAK</th>\n",
       "      <td>-2.321069</td>\n",
       "      <td>-0.028400</td>\n",
       "      <td>-0.585663</td>\n",
       "      <td>0.318095</td>\n",
       "      <td>-0.239173</td>\n",
       "    </tr>\n",
       "    <tr>\n",
       "      <th>BEEF CANNED</th>\n",
       "      <td>0.256477</td>\n",
       "      <td>0.042641</td>\n",
       "      <td>-0.054382</td>\n",
       "      <td>0.474857</td>\n",
       "      <td>1.168707</td>\n",
       "    </tr>\n",
       "    <tr>\n",
       "      <th>CHICKEN BROILED</th>\n",
       "      <td>0.932996</td>\n",
       "      <td>0.031897</td>\n",
       "      <td>0.905719</td>\n",
       "      <td>-0.815849</td>\n",
       "      <td>0.393767</td>\n",
       "    </tr>\n",
       "    <tr>\n",
       "      <th>CHICKEN CANNED</th>\n",
       "      <td>0.185016</td>\n",
       "      <td>0.015362</td>\n",
       "      <td>1.564189</td>\n",
       "      <td>0.039419</td>\n",
       "      <td>0.789681</td>\n",
       "    </tr>\n",
       "    <tr>\n",
       "      <th>BEEF HEART</th>\n",
       "      <td>0.699024</td>\n",
       "      <td>-0.045738</td>\n",
       "      <td>-0.346282</td>\n",
       "      <td>1.568667</td>\n",
       "      <td>2.595080</td>\n",
       "    </tr>\n",
       "    <tr>\n",
       "      <th>LAMB LEG ROAST</th>\n",
       "      <td>-0.937389</td>\n",
       "      <td>0.024877</td>\n",
       "      <td>-0.108904</td>\n",
       "      <td>0.082978</td>\n",
       "      <td>0.274877</td>\n",
       "    </tr>\n",
       "    <tr>\n",
       "      <th>LAMB SHOULDER ROAST</th>\n",
       "      <td>-1.409838</td>\n",
       "      <td>0.042680</td>\n",
       "      <td>-0.415262</td>\n",
       "      <td>-0.137797</td>\n",
       "      <td>-0.211434</td>\n",
       "    </tr>\n",
       "    <tr>\n",
       "      <th>SMOKED HAM</th>\n",
       "      <td>-1.903069</td>\n",
       "      <td>-0.005207</td>\n",
       "      <td>-0.269835</td>\n",
       "      <td>0.294673</td>\n",
       "      <td>-0.034079</td>\n",
       "    </tr>\n",
       "    <tr>\n",
       "      <th>PORK ROAST</th>\n",
       "      <td>-1.924870</td>\n",
       "      <td>0.032956</td>\n",
       "      <td>-0.453141</td>\n",
       "      <td>0.180407</td>\n",
       "      <td>-0.164663</td>\n",
       "    </tr>\n",
       "    <tr>\n",
       "      <th>PORK SIMMERED</th>\n",
       "      <td>-2.089779</td>\n",
       "      <td>-0.010358</td>\n",
       "      <td>-0.435920</td>\n",
       "      <td>0.189606</td>\n",
       "      <td>-0.244768</td>\n",
       "    </tr>\n",
       "    <tr>\n",
       "      <th>BEEF TONGUE</th>\n",
       "      <td>-0.139724</td>\n",
       "      <td>0.025657</td>\n",
       "      <td>-0.231166</td>\n",
       "      <td>-0.409972</td>\n",
       "      <td>0.241602</td>\n",
       "    </tr>\n",
       "    <tr>\n",
       "      <th>VEAL CUTLET</th>\n",
       "      <td>0.126633</td>\n",
       "      <td>-0.023817</td>\n",
       "      <td>0.606239</td>\n",
       "      <td>0.204163</td>\n",
       "      <td>0.983172</td>\n",
       "    </tr>\n",
       "    <tr>\n",
       "      <th>BLUEFISH BAKED</th>\n",
       "      <td>0.684565</td>\n",
       "      <td>0.007018</td>\n",
       "      <td>1.587139</td>\n",
       "      <td>-0.622858</td>\n",
       "      <td>0.119651</td>\n",
       "    </tr>\n",
       "    <tr>\n",
       "      <th>CLAMS RAW</th>\n",
       "      <td>2.388947</td>\n",
       "      <td>-0.033059</td>\n",
       "      <td>-2.720309</td>\n",
       "      <td>0.077535</td>\n",
       "      <td>0.606162</td>\n",
       "    </tr>\n",
       "    <tr>\n",
       "      <th>CLAMS CANNED</th>\n",
       "      <td>2.612097</td>\n",
       "      <td>0.050294</td>\n",
       "      <td>-3.070873</td>\n",
       "      <td>-0.741773</td>\n",
       "      <td>0.042609</td>\n",
       "    </tr>\n",
       "    <tr>\n",
       "      <th>CRABMEAT CANNED</th>\n",
       "      <td>1.462484</td>\n",
       "      <td>0.000690</td>\n",
       "      <td>0.244363</td>\n",
       "      <td>-1.566693</td>\n",
       "      <td>-0.695135</td>\n",
       "    </tr>\n",
       "    <tr>\n",
       "      <th>HADDOCK FRIED</th>\n",
       "      <td>0.788883</td>\n",
       "      <td>-0.078415</td>\n",
       "      <td>0.625519</td>\n",
       "      <td>-1.488127</td>\n",
       "      <td>-0.518010</td>\n",
       "    </tr>\n",
       "    <tr>\n",
       "      <th>MACKEREL BROILED</th>\n",
       "      <td>-0.216685</td>\n",
       "      <td>0.033912</td>\n",
       "      <td>0.679264</td>\n",
       "      <td>-0.810376</td>\n",
       "      <td>-0.168090</td>\n",
       "    </tr>\n",
       "    <tr>\n",
       "      <th>MACKEREL CANNED</th>\n",
       "      <td>1.189782</td>\n",
       "      <td>0.016102</td>\n",
       "      <td>-0.084699</td>\n",
       "      <td>0.265016</td>\n",
       "      <td>-1.345458</td>\n",
       "    </tr>\n",
       "    <tr>\n",
       "      <th>PERCH FRIED</th>\n",
       "      <td>0.106700</td>\n",
       "      <td>-0.133917</td>\n",
       "      <td>0.079860</td>\n",
       "      <td>-1.046451</td>\n",
       "      <td>-0.417400</td>\n",
       "    </tr>\n",
       "    <tr>\n",
       "      <th>SALMON CANNED</th>\n",
       "      <td>1.535433</td>\n",
       "      <td>0.046296</td>\n",
       "      <td>0.713151</td>\n",
       "      <td>-0.065717</td>\n",
       "      <td>-1.533960</td>\n",
       "    </tr>\n",
       "    <tr>\n",
       "      <th>SARDINES CANNED</th>\n",
       "      <td>1.838944</td>\n",
       "      <td>-0.026409</td>\n",
       "      <td>0.556404</td>\n",
       "      <td>3.138110</td>\n",
       "      <td>-2.240747</td>\n",
       "    </tr>\n",
       "    <tr>\n",
       "      <th>TUNA CANNED</th>\n",
       "      <td>0.137351</td>\n",
       "      <td>0.017693</td>\n",
       "      <td>1.708566</td>\n",
       "      <td>-0.101814</td>\n",
       "      <td>0.719237</td>\n",
       "    </tr>\n",
       "    <tr>\n",
       "      <th>SHRIMP CANNED</th>\n",
       "      <td>1.488563</td>\n",
       "      <td>0.004010</td>\n",
       "      <td>0.867213</td>\n",
       "      <td>0.706879</td>\n",
       "      <td>0.459742</td>\n",
       "    </tr>\n",
       "  </tbody>\n",
       "</table>\n",
       "</div>"
      ],
      "text/plain": [
       "                            0         1         2         3         4\n",
       "Food_Item                                                            \n",
       "BEEF BRAISED        -1.894907 -0.005915 -0.318029  0.327156  0.003579\n",
       "HAMBURGER           -0.659812  0.002632  0.079563  0.166202  0.512841\n",
       "BEEF ROAST          -2.936755 -0.003483 -1.122724 -0.226335 -1.097788\n",
       "BEEF STEAK          -2.321069 -0.028400 -0.585663  0.318095 -0.239173\n",
       "BEEF CANNED          0.256477  0.042641 -0.054382  0.474857  1.168707\n",
       "CHICKEN BROILED      0.932996  0.031897  0.905719 -0.815849  0.393767\n",
       "CHICKEN CANNED       0.185016  0.015362  1.564189  0.039419  0.789681\n",
       "BEEF HEART           0.699024 -0.045738 -0.346282  1.568667  2.595080\n",
       "LAMB LEG ROAST      -0.937389  0.024877 -0.108904  0.082978  0.274877\n",
       "LAMB SHOULDER ROAST -1.409838  0.042680 -0.415262 -0.137797 -0.211434\n",
       "SMOKED HAM          -1.903069 -0.005207 -0.269835  0.294673 -0.034079\n",
       "PORK ROAST          -1.924870  0.032956 -0.453141  0.180407 -0.164663\n",
       "PORK SIMMERED       -2.089779 -0.010358 -0.435920  0.189606 -0.244768\n",
       "BEEF TONGUE         -0.139724  0.025657 -0.231166 -0.409972  0.241602\n",
       "VEAL CUTLET          0.126633 -0.023817  0.606239  0.204163  0.983172\n",
       "BLUEFISH BAKED       0.684565  0.007018  1.587139 -0.622858  0.119651\n",
       "CLAMS RAW            2.388947 -0.033059 -2.720309  0.077535  0.606162\n",
       "CLAMS CANNED         2.612097  0.050294 -3.070873 -0.741773  0.042609\n",
       "CRABMEAT CANNED      1.462484  0.000690  0.244363 -1.566693 -0.695135\n",
       "HADDOCK FRIED        0.788883 -0.078415  0.625519 -1.488127 -0.518010\n",
       "MACKEREL BROILED    -0.216685  0.033912  0.679264 -0.810376 -0.168090\n",
       "MACKEREL CANNED      1.189782  0.016102 -0.084699  0.265016 -1.345458\n",
       "PERCH FRIED          0.106700 -0.133917  0.079860 -1.046451 -0.417400\n",
       "SALMON CANNED        1.535433  0.046296  0.713151 -0.065717 -1.533960\n",
       "SARDINES CANNED      1.838944 -0.026409  0.556404  3.138110 -2.240747\n",
       "TUNA CANNED          0.137351  0.017693  1.708566 -0.101814  0.719237\n",
       "SHRIMP CANNED        1.488563  0.004010  0.867213  0.706879  0.459742"
      ]
     },
     "execution_count": 31,
     "metadata": {},
     "output_type": "execute_result"
    }
   ],
   "source": [
    "PCA_Score"
   ]
  },
  {
   "cell_type": "code",
   "execution_count": null,
   "id": "4b751c50",
   "metadata": {},
   "outputs": [],
   "source": []
  }
 ],
 "metadata": {
  "kernelspec": {
   "display_name": "Python 3",
   "language": "python",
   "name": "python3"
  },
  "language_info": {
   "codemirror_mode": {
    "name": "ipython",
    "version": 3
   },
   "file_extension": ".py",
   "mimetype": "text/x-python",
   "name": "python",
   "nbconvert_exporter": "python",
   "pygments_lexer": "ipython3",
   "version": "3.8.8"
  }
 },
 "nbformat": 4,
 "nbformat_minor": 5
}
