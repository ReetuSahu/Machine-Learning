{
 "cells": [
  {
   "cell_type": "code",
   "execution_count": 1,
   "id": "95a9a2fa",
   "metadata": {},
   "outputs": [],
   "source": [
    "import pandas as pd\n",
    "import numpy as np"
   ]
  },
  {
   "cell_type": "code",
   "execution_count": 2,
   "id": "9197dd16",
   "metadata": {},
   "outputs": [],
   "source": [
    "df = pd.read_csv(\"C:/Users/lkosh/Desktop/MachineLearning/Cases/Recency Frequency Monetary/rfm_data_customer.csv\",index_col=0)"
   ]
  },
  {
   "cell_type": "code",
   "execution_count": 3,
   "id": "41826097",
   "metadata": {},
   "outputs": [
    {
     "name": "stdout",
     "output_type": "stream",
     "text": [
      "<class 'pandas.core.frame.DataFrame'>\n",
      "Int64Index: 39999 entries, 22086 to 19184\n",
      "Data columns (total 4 columns):\n",
      " #   Column             Non-Null Count  Dtype \n",
      "---  ------             --------------  ----- \n",
      " 0   revenue            39999 non-null  int64 \n",
      " 1   most_recent_visit  39999 non-null  object\n",
      " 2   number_of_orders   39999 non-null  int64 \n",
      " 3   recency_days       39999 non-null  int64 \n",
      "dtypes: int64(3), object(1)\n",
      "memory usage: 1.5+ MB\n"
     ]
    }
   ],
   "source": [
    "df.info()"
   ]
  },
  {
   "cell_type": "code",
   "execution_count": 4,
   "id": "702e5ab4",
   "metadata": {},
   "outputs": [],
   "source": [
    "df_new = df.drop('most_recent_visit',axis=1)"
   ]
  },
  {
   "cell_type": "code",
   "execution_count": 5,
   "id": "c0b9b0f3",
   "metadata": {},
   "outputs": [
    {
     "name": "stdout",
     "output_type": "stream",
     "text": [
      "<class 'pandas.core.frame.DataFrame'>\n",
      "Int64Index: 39999 entries, 22086 to 19184\n",
      "Data columns (total 3 columns):\n",
      " #   Column            Non-Null Count  Dtype\n",
      "---  ------            --------------  -----\n",
      " 0   revenue           39999 non-null  int64\n",
      " 1   number_of_orders  39999 non-null  int64\n",
      " 2   recency_days      39999 non-null  int64\n",
      "dtypes: int64(3)\n",
      "memory usage: 1.2 MB\n"
     ]
    }
   ],
   "source": [
    "df_new.info()"
   ]
  },
  {
   "cell_type": "code",
   "execution_count": 6,
   "id": "1aaadcbc",
   "metadata": {},
   "outputs": [],
   "source": [
    "from sklearn.preprocessing import StandardScaler\n",
    "scaler = StandardScaler()\n",
    "revenue_scaled=scaler.fit_transform(df_new)"
   ]
  },
  {
   "cell_type": "code",
   "execution_count": 7,
   "id": "1601dfd8",
   "metadata": {},
   "outputs": [],
   "source": [
    "revenue_scaled = pd.DataFrame(revenue_scaled,\n",
    "                          columns=df_new.columns,\n",
    "                          index=df_new.index)"
   ]
  },
  {
   "cell_type": "code",
   "execution_count": 8,
   "id": "0e650600",
   "metadata": {},
   "outputs": [
    {
     "data": {
      "text/html": [
       "<div>\n",
       "<style scoped>\n",
       "    .dataframe tbody tr th:only-of-type {\n",
       "        vertical-align: middle;\n",
       "    }\n",
       "\n",
       "    .dataframe tbody tr th {\n",
       "        vertical-align: top;\n",
       "    }\n",
       "\n",
       "    .dataframe thead th {\n",
       "        text-align: right;\n",
       "    }\n",
       "</style>\n",
       "<table border=\"1\" class=\"dataframe\">\n",
       "  <thead>\n",
       "    <tr style=\"text-align: right;\">\n",
       "      <th></th>\n",
       "      <th>revenue</th>\n",
       "      <th>number_of_orders</th>\n",
       "      <th>recency_days</th>\n",
       "    </tr>\n",
       "    <tr>\n",
       "      <th>customer_id</th>\n",
       "      <th></th>\n",
       "      <th></th>\n",
       "      <th></th>\n",
       "    </tr>\n",
       "  </thead>\n",
       "  <tbody>\n",
       "    <tr>\n",
       "      <th>22086</th>\n",
       "      <td>-0.464600</td>\n",
       "      <td>-0.265676</td>\n",
       "      <td>0.385878</td>\n",
       "    </tr>\n",
       "    <tr>\n",
       "      <th>2290</th>\n",
       "      <td>1.774110</td>\n",
       "      <td>1.972752</td>\n",
       "      <td>-0.506581</td>\n",
       "    </tr>\n",
       "    <tr>\n",
       "      <th>26377</th>\n",
       "      <td>-1.733586</td>\n",
       "      <td>-1.544778</td>\n",
       "      <td>-1.055787</td>\n",
       "    </tr>\n",
       "    <tr>\n",
       "      <th>24650</th>\n",
       "      <td>0.720938</td>\n",
       "      <td>0.693650</td>\n",
       "      <td>-0.895602</td>\n",
       "    </tr>\n",
       "    <tr>\n",
       "      <th>12883</th>\n",
       "      <td>0.836039</td>\n",
       "      <td>0.693650</td>\n",
       "      <td>-1.208344</td>\n",
       "    </tr>\n",
       "    <tr>\n",
       "      <th>...</th>\n",
       "      <td>...</td>\n",
       "      <td>...</td>\n",
       "      <td>...</td>\n",
       "    </tr>\n",
       "    <tr>\n",
       "      <th>3249</th>\n",
       "      <td>0.171332</td>\n",
       "      <td>0.054099</td>\n",
       "      <td>-1.147322</td>\n",
       "    </tr>\n",
       "    <tr>\n",
       "      <th>6686</th>\n",
       "      <td>-0.481865</td>\n",
       "      <td>-0.585451</td>\n",
       "      <td>0.042624</td>\n",
       "    </tr>\n",
       "    <tr>\n",
       "      <th>16418</th>\n",
       "      <td>0.223127</td>\n",
       "      <td>-0.265676</td>\n",
       "      <td>-0.209095</td>\n",
       "    </tr>\n",
       "    <tr>\n",
       "      <th>9117</th>\n",
       "      <td>-0.749474</td>\n",
       "      <td>-0.905227</td>\n",
       "      <td>0.103647</td>\n",
       "    </tr>\n",
       "    <tr>\n",
       "      <th>19184</th>\n",
       "      <td>1.670519</td>\n",
       "      <td>1.013426</td>\n",
       "      <td>-0.521837</td>\n",
       "    </tr>\n",
       "  </tbody>\n",
       "</table>\n",
       "<p>39999 rows × 3 columns</p>\n",
       "</div>"
      ],
      "text/plain": [
       "              revenue  number_of_orders  recency_days\n",
       "customer_id                                          \n",
       "22086       -0.464600         -0.265676      0.385878\n",
       "2290         1.774110          1.972752     -0.506581\n",
       "26377       -1.733586         -1.544778     -1.055787\n",
       "24650        0.720938          0.693650     -0.895602\n",
       "12883        0.836039          0.693650     -1.208344\n",
       "...               ...               ...           ...\n",
       "3249         0.171332          0.054099     -1.147322\n",
       "6686        -0.481865         -0.585451      0.042624\n",
       "16418        0.223127         -0.265676     -0.209095\n",
       "9117        -0.749474         -0.905227      0.103647\n",
       "19184        1.670519          1.013426     -0.521837\n",
       "\n",
       "[39999 rows x 3 columns]"
      ]
     },
     "execution_count": 8,
     "metadata": {},
     "output_type": "execute_result"
    }
   ],
   "source": [
    "revenue_scaled"
   ]
  },
  {
   "cell_type": "code",
   "execution_count": 9,
   "id": "9b53b1e7",
   "metadata": {},
   "outputs": [],
   "source": [
    "# Import KMeans\n",
    "from sklearn.cluster import KMeans"
   ]
  },
  {
   "cell_type": "code",
   "execution_count": 10,
   "id": "62094c10",
   "metadata": {},
   "outputs": [],
   "source": [
    "# Create a KMeans instance with clusters: model\n",
    "model = KMeans(n_clusters=3,random_state=2021)"
   ]
  },
  {
   "cell_type": "code",
   "execution_count": 11,
   "id": "ff92770b",
   "metadata": {},
   "outputs": [
    {
     "data": {
      "text/plain": [
       "KMeans(n_clusters=3, random_state=2021)"
      ]
     },
     "execution_count": 11,
     "metadata": {},
     "output_type": "execute_result"
    }
   ],
   "source": [
    "# Fit model to points\n",
    "model.fit(revenue_scaled)"
   ]
  },
  {
   "cell_type": "code",
   "execution_count": 12,
   "id": "8017c421",
   "metadata": {},
   "outputs": [
    {
     "name": "stdout",
     "output_type": "stream",
     "text": [
      "[[-0.53217015 -0.49990215 -0.35021444]\n",
      " [-0.71144106 -0.79559227  1.78054162]\n",
      " [ 0.99934977  0.99676375 -0.36715092]]\n"
     ]
    }
   ],
   "source": [
    "# Cluster Centroids\n",
    "print(model.cluster_centers_)"
   ]
  },
  {
   "cell_type": "code",
   "execution_count": 13,
   "id": "e953e4a4",
   "metadata": {},
   "outputs": [],
   "source": [
    "# Determine the cluster labels of new_points: labels\n",
    "labels = model.predict(revenue_scaled)"
   ]
  },
  {
   "cell_type": "code",
   "execution_count": 14,
   "id": "506e5a1e",
   "metadata": {},
   "outputs": [
    {
     "name": "stdout",
     "output_type": "stream",
     "text": [
      "[0 2 0 ... 0 0 2]\n"
     ]
    }
   ],
   "source": [
    "# Print cluster labels of new_points\n",
    "print(labels)"
   ]
  },
  {
   "cell_type": "code",
   "execution_count": 15,
   "id": "2d615a9d",
   "metadata": {},
   "outputs": [],
   "source": [
    "clusterID = pd.DataFrame({'ClustID':labels})\n",
    "clusteredData = pd.concat([df_new.reset_index(),clusterID],axis=1)"
   ]
  },
  {
   "cell_type": "code",
   "execution_count": 16,
   "id": "335421e4",
   "metadata": {},
   "outputs": [
    {
     "name": "stdout",
     "output_type": "stream",
     "text": [
      "47718.67877725456\n"
     ]
    }
   ],
   "source": [
    "# Variation\n",
    "print(model.inertia_)"
   ]
  },
  {
   "cell_type": "code",
   "execution_count": 17,
   "id": "053c75ae",
   "metadata": {},
   "outputs": [],
   "source": [
    "clustNos = [2,3,4,5,6,7,8,9,10]\n",
    "Inertia = []"
   ]
  },
  {
   "cell_type": "code",
   "execution_count": 18,
   "id": "351e2c94",
   "metadata": {},
   "outputs": [],
   "source": [
    "for i in clustNos :\n",
    "    model = KMeans(n_clusters=i,random_state=2021)\n",
    "    model.fit(revenue_scaled)\n",
    "    Inertia.append(model.inertia_)"
   ]
  },
  {
   "cell_type": "code",
   "execution_count": 19,
   "id": "4dab9ba3",
   "metadata": {},
   "outputs": [
    {
     "data": {
      "image/png": "[encoded data removed]",
      "text/plain": [
       "<Figure size 432x288 with 1 Axes>"
      ]
     },
     "metadata": {
      "needs_background": "light"
     },
     "output_type": "display_data"
    }
   ],
   "source": [
    "# Import pyplot\n",
    "import matplotlib.pyplot as plt\n",
    "\n",
    "plt.plot(clustNos, Inertia, '-o')\n",
    "plt.title(\"Scree Plot\")\n",
    "plt.xlabel('Number of clusters, k')\n",
    "plt.ylabel('Inertia')\n",
    "plt.xticks(clustNos)\n",
    "plt.show()"
   ]
  },
  {
   "cell_type": "code",
   "execution_count": 20,
   "id": "a75d8a20",
   "metadata": {},
   "outputs": [],
   "source": [
    "# Create a KMeans instance with clusters: Best k model\n",
    "model = KMeans(n_clusters=4,random_state=2021)"
   ]
  },
  {
   "cell_type": "code",
   "execution_count": 21,
   "id": "57afab61",
   "metadata": {},
   "outputs": [
    {
     "data": {
      "text/plain": [
       "KMeans(n_clusters=4, random_state=2021)"
      ]
     },
     "execution_count": 21,
     "metadata": {},
     "output_type": "execute_result"
    }
   ],
   "source": [
    "# Fit model to points\n",
    "model.fit(revenue_scaled)"
   ]
  },
  {
   "cell_type": "code",
   "execution_count": 22,
   "id": "eaa19150",
   "metadata": {},
   "outputs": [],
   "source": [
    "labels = model.predict(revenue_scaled)"
   ]
  },
  {
   "cell_type": "code",
   "execution_count": 23,
   "id": "7223ca75",
   "metadata": {},
   "outputs": [],
   "source": [
    "clusterID = pd.DataFrame({'ClustID':labels},index=df_new.index)\n",
    "clusteredData = pd.concat([df_new,clusterID],\n",
    "                          axis='columns')"
   ]
  },
  {
   "cell_type": "code",
   "execution_count": 24,
   "id": "6cc7f271",
   "metadata": {},
   "outputs": [
    {
     "data": {
      "text/html": [
       "<div>\n",
       "<style scoped>\n",
       "    .dataframe tbody tr th:only-of-type {\n",
       "        vertical-align: middle;\n",
       "    }\n",
       "\n",
       "    .dataframe tbody tr th {\n",
       "        vertical-align: top;\n",
       "    }\n",
       "\n",
       "    .dataframe thead th {\n",
       "        text-align: right;\n",
       "    }\n",
       "</style>\n",
       "<table border=\"1\" class=\"dataframe\">\n",
       "  <thead>\n",
       "    <tr style=\"text-align: right;\">\n",
       "      <th></th>\n",
       "      <th>revenue</th>\n",
       "      <th>number_of_orders</th>\n",
       "      <th>recency_days</th>\n",
       "    </tr>\n",
       "    <tr>\n",
       "      <th>ClustID</th>\n",
       "      <th></th>\n",
       "      <th></th>\n",
       "      <th></th>\n",
       "    </tr>\n",
       "  </thead>\n",
       "  <tbody>\n",
       "    <tr>\n",
       "      <th>0</th>\n",
       "      <td>1006.254321</td>\n",
       "      <td>10.560094</td>\n",
       "      <td>132.979248</td>\n",
       "    </tr>\n",
       "    <tr>\n",
       "      <th>1</th>\n",
       "      <td>1445.833642</td>\n",
       "      <td>14.302590</td>\n",
       "      <td>131.994979</td>\n",
       "    </tr>\n",
       "    <tr>\n",
       "      <th>2</th>\n",
       "      <td>710.846204</td>\n",
       "      <td>7.501955</td>\n",
       "      <td>427.902737</td>\n",
       "    </tr>\n",
       "    <tr>\n",
       "      <th>3</th>\n",
       "      <td>622.729963</td>\n",
       "      <td>7.045294</td>\n",
       "      <td>145.184987</td>\n",
       "    </tr>\n",
       "  </tbody>\n",
       "</table>\n",
       "</div>"
      ],
      "text/plain": [
       "             revenue  number_of_orders  recency_days\n",
       "ClustID                                             \n",
       "0        1006.254321         10.560094    132.979248\n",
       "1        1445.833642         14.302590    131.994979\n",
       "2         710.846204          7.501955    427.902737\n",
       "3         622.729963          7.045294    145.184987"
      ]
     },
     "execution_count": 24,
     "metadata": {},
     "output_type": "execute_result"
    }
   ],
   "source": [
    "clusteredData.groupby('ClustID').mean()"
   ]
  },
  {
   "cell_type": "code",
   "execution_count": 25,
   "id": "88d06219",
   "metadata": {},
   "outputs": [
    {
     "data": {
      "text/html": [
       "<div>\n",
       "<style scoped>\n",
       "    .dataframe tbody tr th:only-of-type {\n",
       "        vertical-align: middle;\n",
       "    }\n",
       "\n",
       "    .dataframe tbody tr th {\n",
       "        vertical-align: top;\n",
       "    }\n",
       "\n",
       "    .dataframe thead th {\n",
       "        text-align: right;\n",
       "    }\n",
       "</style>\n",
       "<table border=\"1\" class=\"dataframe\">\n",
       "  <thead>\n",
       "    <tr style=\"text-align: right;\">\n",
       "      <th></th>\n",
       "      <th>revenue</th>\n",
       "      <th>number_of_orders</th>\n",
       "      <th>recency_days</th>\n",
       "      <th>ClustID</th>\n",
       "    </tr>\n",
       "    <tr>\n",
       "      <th>customer_id</th>\n",
       "      <th></th>\n",
       "      <th></th>\n",
       "      <th></th>\n",
       "      <th></th>\n",
       "    </tr>\n",
       "  </thead>\n",
       "  <tbody>\n",
       "    <tr>\n",
       "      <th>22973</th>\n",
       "      <td>1136</td>\n",
       "      <td>11</td>\n",
       "      <td>9</td>\n",
       "      <td>0</td>\n",
       "    </tr>\n",
       "    <tr>\n",
       "      <th>9871</th>\n",
       "      <td>1143</td>\n",
       "      <td>11</td>\n",
       "      <td>169</td>\n",
       "      <td>0</td>\n",
       "    </tr>\n",
       "    <tr>\n",
       "      <th>38542</th>\n",
       "      <td>963</td>\n",
       "      <td>9</td>\n",
       "      <td>193</td>\n",
       "      <td>0</td>\n",
       "    </tr>\n",
       "    <tr>\n",
       "      <th>27124</th>\n",
       "      <td>975</td>\n",
       "      <td>10</td>\n",
       "      <td>122</td>\n",
       "      <td>0</td>\n",
       "    </tr>\n",
       "    <tr>\n",
       "      <th>8234</th>\n",
       "      <td>794</td>\n",
       "      <td>10</td>\n",
       "      <td>72</td>\n",
       "      <td>0</td>\n",
       "    </tr>\n",
       "    <tr>\n",
       "      <th>...</th>\n",
       "      <td>...</td>\n",
       "      <td>...</td>\n",
       "      <td>...</td>\n",
       "      <td>...</td>\n",
       "    </tr>\n",
       "    <tr>\n",
       "      <th>32670</th>\n",
       "      <td>582</td>\n",
       "      <td>8</td>\n",
       "      <td>245</td>\n",
       "      <td>3</td>\n",
       "    </tr>\n",
       "    <tr>\n",
       "      <th>12754</th>\n",
       "      <td>541</td>\n",
       "      <td>7</td>\n",
       "      <td>176</td>\n",
       "      <td>3</td>\n",
       "    </tr>\n",
       "    <tr>\n",
       "      <th>2438</th>\n",
       "      <td>738</td>\n",
       "      <td>9</td>\n",
       "      <td>230</td>\n",
       "      <td>3</td>\n",
       "    </tr>\n",
       "    <tr>\n",
       "      <th>21401</th>\n",
       "      <td>556</td>\n",
       "      <td>6</td>\n",
       "      <td>198</td>\n",
       "      <td>3</td>\n",
       "    </tr>\n",
       "    <tr>\n",
       "      <th>37556</th>\n",
       "      <td>562</td>\n",
       "      <td>6</td>\n",
       "      <td>59</td>\n",
       "      <td>3</td>\n",
       "    </tr>\n",
       "  </tbody>\n",
       "</table>\n",
       "<p>39999 rows × 4 columns</p>\n",
       "</div>"
      ],
      "text/plain": [
       "             revenue  number_of_orders  recency_days  ClustID\n",
       "customer_id                                                  \n",
       "22973           1136                11             9        0\n",
       "9871            1143                11           169        0\n",
       "38542            963                 9           193        0\n",
       "27124            975                10           122        0\n",
       "8234             794                10            72        0\n",
       "...              ...               ...           ...      ...\n",
       "32670            582                 8           245        3\n",
       "12754            541                 7           176        3\n",
       "2438             738                 9           230        3\n",
       "21401            556                 6           198        3\n",
       "37556            562                 6            59        3\n",
       "\n",
       "[39999 rows x 4 columns]"
      ]
     },
     "execution_count": 25,
     "metadata": {},
     "output_type": "execute_result"
    }
   ],
   "source": [
    "clusteredData.sort_values('ClustID')"
   ]
  },
  {
   "cell_type": "code",
   "execution_count": null,
   "id": "bd0bb2c8",
   "metadata": {},
   "outputs": [],
   "source": []
  }
 ],
 "metadata": {
  "kernelspec": {
   "display_name": "Python 3",
   "language": "python",
   "name": "python3"
  },
  "language_info": {
   "codemirror_mode": {
    "name": "ipython",
    "version": 3
   },
   "file_extension": ".py",
   "mimetype": "text/x-python",
   "name": "python",
   "nbconvert_exporter": "python",
   "pygments_lexer": "ipython3",
   "version": "3.8.8"
  }
 },
 "nbformat": 4,
 "nbformat_minor": 5
}
